{
 "cells": [
  {
   "cell_type": "markdown",
   "metadata": {},
   "source": [
    "# Linear Regression"
   ]
  },
  {
   "cell_type": "code",
   "execution_count": 122,
   "metadata": {},
   "outputs": [],
   "source": [
    "#Importing required libs\n",
    "import math\n",
    "import pandas as pd\n",
    "import seaborn as sns\n",
    "import matplotlib.pyplot as plt\n",
    "from sklearn.linear_model import LinearRegression\n",
    "from sklearn.isotonic import IsotonicRegression\n",
    "\n",
    "from sklearn.metrics import confusion_matrix, classification_report\n",
    "from sklearn.preprocessing import StandardScaler, LabelEncoder\n",
    "from sklearn.model_selection import train_test_split\n",
    "import pickle\n",
    "%matplotlib inline"
   ]
  },
  {
   "cell_type": "code",
   "execution_count": 155,
   "metadata": {},
   "outputs": [],
   "source": [
    "# Constants\n",
    "\n",
    "FILE_PATH = \".\"\n",
    "FILE_NAME = \"corona-19.xlsx\"\n",
    "SHEET_NAME = \"COVID-19-geographic-disbtributi\"\n",
    "NAMES = [\"Cases\", \"Deaths\" , \"Countries and territories\", \"GeoId\"]\n",
    "GROUP_BY = [\"GeoId\", \"Countries and territories\"]\n",
    "FILE = 'isotonic_regression_corona.sav'\n",
    "\n",
    "def load_excel_file(names, file_name, file_path, sheet_name = None):\n",
    "    \n",
    "    dataframe = None\n",
    "    try:\n",
    "        data = pd.read_excel(f\"{file_path}/{file_name}\", sheet_name = sheet_name)\n",
    "        validate_dataframe = isinstance(data, pd.DataFrame)\n",
    "        if validate_dataframe:\n",
    "            dataframe = pd.DataFrame(data, columns = names)\n",
    "            return dataframe\n",
    "        \n",
    "        for sheet, values in data.items():\n",
    "            # Get only the first Dataframe\n",
    "            dataframe = pd.DataFrame(values, columns = names)\n",
    "            return dataframe\n",
    "    except Exception as e:\n",
    "        raise e\n",
    "\n",
    "def clean_null_values(dataframe):\n",
    "    cleaned_df = dataframe\n",
    "    null_values = dataframe.isnull().values.any()\n",
    "    if null_values:\n",
    "        cleaned_df = dataframe.dropna()\n",
    "    return cleaned_df\n",
    "\n",
    "def group_dataframe(dataframe, group):\n",
    "    dataframe_grouped = dataframe.groupby(group).sum()\n",
    "    dataframe_grouped = dataframe_grouped.reset_index()\n",
    "    return dataframe_grouped\n",
    "\n",
    "def split_dataframe(dataframe, test_size = 0.2):\n",
    "    label = df_grouped['Cases'].values\n",
    "    feature = df_grouped['Deaths'].values\n",
    "    \n",
    "    X_train, X_test, y_train, y_test = train_test_split(label, feature, test_size=test_size, random_state=42)\n",
    "    return X_train, X_test, y_train, y_test\n",
    "\n",
    "def train_model(X_train, y_train):\n",
    "    ir = IsotonicRegression()\n",
    "    ir.fit(X_train, y_train)\n",
    "    \n",
    "    return ir\n",
    "\n",
    "def test_values(X_test, model):\n",
    "    X_test = values_for_train_test[1]\n",
    "    X_predict = model.predict(X_test)\n",
    "    return X_predict\n",
    "\n",
    "df = load_excel_file(NAMES, FILE_NAME, FILE_PATH, SHEET_NAME)\n",
    "df_cleaned = clean_null_values(df)\n",
    "df_grouped = group_dataframe(df_cleaned, GROUP_BY)\n",
    "\n",
    "values_for_train_test = split_dataframe(df_grouped)\n",
    "\n",
    "X_train = values_for_train_test[0]\n",
    "X_test = values_for_train_test[1]\n",
    "    \n",
    "y_train = values_for_train_test[2]\n",
    "y_test = values_for_train_test[3]\n",
    "\n",
    "model_ir = train_model(X_train, y_train)\n",
    "\n",
    "# Save the model to disk\n",
    "pickle.dump(model_ir, open(FILE, 'wb+'))"
   ]
  },
  {
   "cell_type": "code",
   "execution_count": null,
   "metadata": {},
   "outputs": [],
   "source": [
    "### Predict"
   ]
  },
  {
   "cell_type": "code",
   "execution_count": 156,
   "metadata": {},
   "outputs": [
    {
     "name": "stdout",
     "output_type": "stream",
     "text": [
      "96\n"
     ]
    }
   ],
   "source": [
    "# load the model from disk\n",
    "number_of_cases = 4900\n",
    "loaded_model = pickle.load(open(filename, 'rb'))\n",
    "result = loaded_model.predict([number_of_cases])\n",
    "print(round(float(result)))"
   ]
  },
  {
   "cell_type": "code",
   "execution_count": null,
   "metadata": {},
   "outputs": [],
   "source": []
  },
  {
   "cell_type": "code",
   "execution_count": null,
   "metadata": {},
   "outputs": [],
   "source": []
  },
  {
   "cell_type": "code",
   "execution_count": null,
   "metadata": {},
   "outputs": [],
   "source": []
  },
  {
   "cell_type": "code",
   "execution_count": 24,
   "metadata": {},
   "outputs": [],
   "source": []
  },
  {
   "cell_type": "code",
   "execution_count": 79,
   "metadata": {},
   "outputs": [],
   "source": []
  },
  {
   "cell_type": "code",
   "execution_count": null,
   "metadata": {},
   "outputs": [],
   "source": []
  },
  {
   "cell_type": "code",
   "execution_count": null,
   "metadata": {
    "scrolled": false
   },
   "outputs": [],
   "source": []
  },
  {
   "cell_type": "code",
   "execution_count": null,
   "metadata": {},
   "outputs": [],
   "source": []
  },
  {
   "cell_type": "code",
   "execution_count": null,
   "metadata": {},
   "outputs": [],
   "source": []
  },
  {
   "cell_type": "code",
   "execution_count": null,
   "metadata": {},
   "outputs": [],
   "source": []
  },
  {
   "cell_type": "code",
   "execution_count": null,
   "metadata": {},
   "outputs": [],
   "source": []
  }
 ],
 "metadata": {
  "kernelspec": {
   "display_name": "conda_amazonei_mxnet_p36",
   "language": "python",
   "name": "conda_amazonei_mxnet_p36"
  },
  "language_info": {
   "codemirror_mode": {
    "name": "ipython",
    "version": 3
   },
   "file_extension": ".py",
   "mimetype": "text/x-python",
   "name": "python",
   "nbconvert_exporter": "python",
   "pygments_lexer": "ipython3",
   "version": "3.6.5"
  }
 },
 "nbformat": 4,
 "nbformat_minor": 4
}
